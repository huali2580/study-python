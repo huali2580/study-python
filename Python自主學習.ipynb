{
  "nbformat": 4,
  "nbformat_minor": 0,
  "metadata": {
    "colab": {
      "provenance": [],
      "authorship_tag": "ABX9TyMuBKxsbP1nXhBr9VbxCxvi",
      "include_colab_link": true
    },
    "kernelspec": {
      "name": "python3",
      "display_name": "Python 3"
    },
    "language_info": {
      "name": "python"
    }
  },
  "cells": [
    {
      "cell_type": "markdown",
      "metadata": {
        "id": "view-in-github",
        "colab_type": "text"
      },
      "source": [
        "<a href=\"https://colab.research.google.com/github/huali2580/PYTHON-SD/blob/main/Python%E8%87%AA%E4%B8%BB%E5%AD%B8%E7%BF%92.ipynb\" target=\"_parent\"><img src=\"https://colab.research.google.com/assets/colab-badge.svg\" alt=\"Open In Colab\"/></a>"
      ]
    },
    {
      "cell_type": "markdown",
      "source": [
        "## 8.1 Pytube:下載第一部YouTube影片模組\n",
        "YouTube 已是世界最大影片網站，其中有許多值得珍藏的影片，因此大部分人皆有從YouTube網站下載影片的需求。\n",
        "\n",
        "本應用實例將利用pytube模組輕鬆下載YouTube影片。\n"
      ],
      "metadata": {
        "id": "l2ml_6GPJ9sd"
      }
    },
    {
      "cell_type": "markdown",
      "source": [
        "## 8.1.1 Pytube 模組基本使用方法\n",
        "\n",
        "### 安裝Pytube\n",
        "\n",
        "\n",
        "```\n",
        "// 在colab 上需要指令前面需要加驚嘆號\n",
        "!pip install pytube\n",
        "```\n",
        "\n"
      ],
      "metadata": {
        "id": "TTds8n1kKRBL"
      }
    },
    {
      "cell_type": "code",
      "source": [
        "!pip install pytube"
      ],
      "metadata": {
        "id": "MzsM2_9ZKNwZ",
        "colab": {
          "base_uri": "https://localhost:8080/"
        },
        "outputId": "9bc626f9-cb15-4a73-ea37-7d0154876b04"
      },
      "execution_count": null,
      "outputs": [
        {
          "output_type": "stream",
          "name": "stdout",
          "text": [
            "Requirement already satisfied: pytube in /usr/local/lib/python3.10/dist-packages (15.0.0)\n"
          ]
        }
      ]
    },
    {
      "cell_type": "markdown",
      "source": [
        "## 下載第一步YouTube影片\n",
        "使用Pytube 模組下載YouTube影片非常簡單，只要3列程式碼即可完成！\n",
        "\n",
        "撰寫使用pytube下載YouTube影片的程式，首先要匯入Pytube模組：\n",
        "\n",
        "```\n",
        "from pytube import YouTube\n",
        "```\n",
        "接著以Pytube模組中YouTube類別建立物件，語法為：\n",
        "\n",
        "\n",
        "```\n",
        "物件變數=YouTube(\"\")\n",
        "```\n",
        "\n"
      ],
      "metadata": {
        "id": "Fe4PA5nAMpUu"
      }
    },
    {
      "cell_type": "markdown",
      "source": [
        "下載的影片會儲存於Pytube程式所在的資料夾\n",
        "\n",
        "\n",
        "```\n",
        "程式碼：pytube.py\n",
        "```\n",
        "\n",
        "\n",
        "\n",
        "\n",
        "```\n",
        "from pytube import YouTube\n",
        "yt=YouTube(\"https://www.youtube.com/watch?v=0tOqHZ8SrC4&ab_channel=%E6%84%8F%E5%85%AC%E5%AD%90\")\n",
        "print(\"開始下載！\")\n",
        "yt.streams.first().download()\n",
        "print(\"下載完畢！\")\n",
        "```\n",
        "\n"
      ],
      "metadata": {
        "id": "65NcRoOmEqVC"
      }
    },
    {
      "cell_type": "markdown",
      "source": [
        "## 8.1.2 影片名稱及存檔路徑\n",
        "在YouTube中，影片可能具有多種不同格式，`<pytube.py>`範例第五列是下載第一個格式的影片。pytube提供許多方法可取得YouTube影片各種資訊。"
      ],
      "metadata": {
        "id": "5FFOutzWKgdI"
      }
    },
    {
      "cell_type": "markdown",
      "source": [
        "## 取得影片名稱\n",
        "title 屬性可可取得影片名稱，以`<pytube>`網址爲例：\n",
        "\n",
        "\n",
        "```\n",
        "print<yt.title>\n",
        "```\n",
        "執行結果為【最近剛經歷了一個身心疲憊的冬天，好在春天來了！【意公子讀莊子】】。\n",
        "下載的檔案名稱即為影片名稱，下載時會自動依影片格式加入附加檔名。\n",
        "\n",
        "## 下載時存于指定資料夾\n",
        "範例中 download 方法若沒有傳送參數，下載的檔案會存於 python 程式所在的資料夾；要將下載檔案存於指定的資料夾時，可將儲存檔案路徑作爲 download 方法參數。例如要將下載檔案儲存于 d 磁碟機的 tem 資料夾。\n",
        "\n",
        "\n",
        "```\n",
        "yt.streams.first().download(\"d:\\\\tem\")\n",
        "```\n",
        "\n",
        "如果 download 方法指定的路徑不存在，會依照指定路徑建立資料夾再將影片存於該資料夾中。\n",
        "\n",
        "\n",
        "```\n",
        "from pytube import YouTube\n",
        "\n",
        "yt = Youtube(\"https://www.youtube.com/watch?v=0tOqHZ8SrC4&ab_channel=%E6%84%8F%E5%85%AC%E5%AD%90\")\n",
        "print(\"開始下載:\"+ yt.title)\n",
        "pathdir=\"d:\\\\tem \" #下載資料夾\n",
        "yt.streams.first().download(pathdir)\n",
        "print(\"[\" +yt.title + \"]下載完成！\")\n",
        "```\n",
        "\n",
        "\n",
        "\n"
      ],
      "metadata": {
        "id": "pa2ZxuFAHNhL"
      }
    },
    {
      "cell_type": "code",
      "source": [
        "from pytube import YouTube\n",
        "\n",
        "yt=YouTube(\"https://www.youtube.com/watch?v=0tOqHZ8SrC4&ab_channel=%E6%84%8F%E5%85%AC%E5%AD%90\")\n",
        "print(\"開始下載:\"+ yt.title)\n",
        "pathdir=\"d:\\\\tem \" #下載資料夾\n",
        "yt.streams.first().download(pathdir)\n",
        "print(\"[\" + yt.title + \"]下載完成！\")"
      ],
      "metadata": {
        "colab": {
          "base_uri": "https://localhost:8080/"
        },
        "id": "VQVCPqiInZ8B",
        "outputId": "6c80dd9e-6033-4b30-fc84-a02549c3780c"
      },
      "execution_count": null,
      "outputs": [
        {
          "output_type": "stream",
          "name": "stdout",
          "text": [
            "開始下載:最近剛經歷了一個身心疲憊的冬天，好在春天來了！【意公子讀莊子】\n",
            "[最近剛經歷了一個身心疲憊的冬天，好在春天來了！【意公子讀莊子】]下載完成！\n"
          ]
        }
      ]
    },
    {
      "cell_type": "markdown",
      "source": [
        "## 8.1.3 影片格式\n",
        "pytube 模組提供 streams 方法取得影片所有格式\n",
        "\n",
        "\n",
        "\n",
        "```\n",
        "<print(yt.streams)>\n",
        "```\n",
        "回傳值是一個串列，每一個元素就是一種格式（共16個元素）：\n",
        "\n",
        "\n",
        "```\n",
        "\n",
        "```\n",
        "要取得影片格式數量，可使用串列 len 函式取得，例如：\n",
        "\n",
        "\n",
        "```\n",
        "print(len(yt.streams)) #18\n",
        "```\n",
        "streams 又有下列主要方法對影片格式進一步操作：\n",
        "\n",
        "\n",
        "\n",
        "\n"
      ],
      "metadata": {
        "id": "oSz50VYEodOh"
      }
    }
  ]
}